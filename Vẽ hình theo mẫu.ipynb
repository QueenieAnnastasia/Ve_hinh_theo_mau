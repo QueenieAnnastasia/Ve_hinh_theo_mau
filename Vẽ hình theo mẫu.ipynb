import turtle
t = turtle.Turtle()

t.color('purple')
t.speed(0)
a = 30
for i in range(a):
    t.circle(100)
    t.lt(360/a)
